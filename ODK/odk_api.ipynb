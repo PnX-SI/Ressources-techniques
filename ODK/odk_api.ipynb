{
 "cells": [
  {
   "cell_type": "markdown",
   "id": "65a08e6a",
   "metadata": {},
   "source": [
    "# Exemple de manipulation de la librairie pyodk\n",
    "\n",
    "Ressources :\n",
    "https://github.com/getodk/pyodk\n",
    "https://github.com/getodk/pyodk/tree/master/examples\n",
    "\n",
    "Dans cet exemple nous illustrons les cas suivants :\n",
    " * Récupération des données des soumissions \n",
    " * Récupération des attachments des soumissions\n",
    " * Changement de la variable reviewState des soumissions récupérés\n",
    " * Mise à jour des attachments d'un formulaire\n",
    "\n",
    "\n",
    "## Utilisation de l'api odk central\n",
    "\n",
    "Installer le paquet pyodk\n",
    "`pip install pyodk`\n",
    "\n",
    "Créer un fichier config.toml qui permet d'établir la connexion avec ODK central\n",
    "\n",
    "```\n",
    "[central]\n",
    "base_url = \"https://www.example.com\"\n",
    "username = \"my_user\"\n",
    "password = \"my_password\"\n",
    "default_project_id = 123\n",
    "```"
   ]
  },
  {
   "cell_type": "code",
   "execution_count": null,
   "id": "ca80d774-e1ef-436a-bfcd-f7eeddcf2cbd",
   "metadata": {},
   "outputs": [
    {
     "ename": "",
     "evalue": "",
     "output_type": "error",
     "traceback": [
      "\u001b[1;31mLes cellules en cours d’exécution avec Python 3.8.10 64-bit nécessitent ipykernel package.\n",
      "\u001b[1;31mExécutez la commande suivante pour installer 'ipykernel' dans l’environnement Python. \n",
      "\u001b[1;31mCommande : '/bin/python3 -m pip install ipykernel -U --user --force-reinstall'"
     ]
    }
   ],
   "source": [
    "from pyodk.client import Client\n",
    "# Creation client odk central\n",
    "client = Client(config_path=\"./config.toml\")"
   ]
  },
  {
   "cell_type": "code",
   "execution_count": null,
   "id": "6f1d7a19",
   "metadata": {},
   "outputs": [],
   "source": [
    "# CONSTANTES\n",
    "FORM_ID=\"mon_form\"\n",
    "PROJECT_ID=1"
   ]
  },
  {
   "cell_type": "markdown",
   "id": "420a5ce7",
   "metadata": {},
   "source": [
    "# Récupération des données du formulaire\n",
    "\n",
    "https://odkcentral.docs.apiary.io/#reference/odata-endpoints/odata-form-service/data-document"
   ]
  },
  {
   "cell_type": "code",
   "execution_count": null,
   "id": "483c7d3b-6731-4c78-9330-a40733697d2c",
   "metadata": {},
   "outputs": [
    {
     "ename": "",
     "evalue": "",
     "output_type": "error",
     "traceback": [
      "\u001b[1;31mLes cellules en cours d’exécution avec Python 3.8.10 64-bit nécessitent ipykernel package.\n",
      "\u001b[1;31mExécutez la commande suivante pour installer 'ipykernel' dans l’environnement Python. \n",
      "\u001b[1;31mCommande : '/bin/python3 -m pip install ipykernel -U --user --force-reinstall'"
     ]
    }
   ],
   "source": [
    "\n",
    "#   expand=\"*\" => avec toutes les niveaux hiérarchiques (tables repeat)\n",
    "#   filter => Filtre sur les données dans l'exemple à partir d'une date ou du statut de la soumission\n",
    "form_data = client.submissions.get_table(\n",
    "    form_id=FORM_ID,\n",
    "    project_id=PROJECT_ID,\n",
    "    expand=\"*\",\n",
    "    #filter=\"__system/submissionDate ge 2022-12-06T14:56:00.000Z\"\n",
    "    filter= \"__system/reviewState ne 'rejected'\"\n",
    "  )\n",
    "\n",
    "print(\"Nombre de données de la requête\", len(form_data['value']))"
   ]
  },
  {
   "cell_type": "markdown",
   "id": "4d291442",
   "metadata": {},
   "source": [
    "# Mise à jour des status des données du formulaire\n",
    "\n",
    "https://odkcentral.docs.apiary.io/#reference/submissions/submissions/updating-submission-metadata\n",
    " \n",
    "> **Warning**\n",
    "> !!!!  Nous n'avons pas réussi à utiliser le client pyodk pour cette action d'où l'utilisation de requests avec la récupération des paramètres via le client pyodk"
   ]
  },
  {
   "cell_type": "code",
   "execution_count": null,
   "id": "4540635d-a6e1-4ff4-ad9f-5bf1a3caab9f",
   "metadata": {},
   "outputs": [
    {
     "ename": "",
     "evalue": "",
     "output_type": "error",
     "traceback": [
      "\u001b[1;31mLes cellules en cours d’exécution avec Python 3.8.10 64-bit nécessitent ipykernel package.\n",
      "\u001b[1;31mExécutez la commande suivante pour installer 'ipykernel' dans l’environnement Python. \n",
      "\u001b[1;31mCommande : '/bin/python3 -m pip install ipykernel -U --user --force-reinstall'"
     ]
    }
   ],
   "source": [
    "import requests\n",
    "import json\n",
    "\n",
    "# Liste des statuts\n",
    "review_states = [\"approved\", \"hasIssues\", \"rejected\"]\n",
    "\n",
    "# Récupération du token\n",
    "token = client.auth.get_token(\n",
    "            username=client.config.central.username,\n",
    "            password=client.config.central.password,\n",
    "        )\n",
    "\n",
    "for data in form_data[\"value\"]:\n",
    "    # Pour chaque données récupérée dans la requête précédante mise à jour du reviewState\n",
    "    review_submission_response = requests.patch(\n",
    "        f\"{client.config.central.base_url}/v1/projects/{PROJECT_ID}/forms/{FORM_ID}/submissions/{data['__id']}\",\n",
    "        data=json.dumps({\"reviewState\": review_states[2]}),\n",
    "        headers={\n",
    "            \"Content-Type\": \"application/json\",\n",
    "            \"Authorization\": \"Bearer \" + token,\n",
    "        },\n",
    "    )\n",
    "    print(review_submission_response.json())"
   ]
  },
  {
   "cell_type": "markdown",
   "id": "cdfd2e65",
   "metadata": {},
   "source": [
    "# Récupération des médias (attachments) d'une soumission\n",
    "\n"
   ]
  },
  {
   "cell_type": "code",
   "execution_count": null,
   "id": "73b55686-02ff-4cf0-8ad4-0414f05f4d99",
   "metadata": {},
   "outputs": [
    {
     "ename": "",
     "evalue": "",
     "output_type": "error",
     "traceback": [
      "\u001b[1;31mLes cellules en cours d’exécution avec Python 3.8.10 64-bit nécessitent ipykernel package.\n",
      "\u001b[1;31mExécutez la commande suivante pour installer 'ipykernel' dans l’environnement Python. \n",
      "\u001b[1;31mCommande : '/bin/python3 -m pip install ipykernel -U --user --force-reinstall'"
     ]
    }
   ],
   "source": [
    "# Upload form attachments\n",
    "# https://odkcentral.docs.apiary.io/#reference/submissions/attachments/listing-expected-submission-attachments\n",
    "# https://odkcentral.docs.apiary.io/#reference/submissions/attachments/downloading-an-attachment\n",
    "\n",
    "for data in form_data[\"value\"]:\n",
    "    # Récupération de la liste des attachments d'une soumission\n",
    "    attachments_list = client.get(f\"projects/1/forms/Sicen/submissions/{data['__id']}/attachments\")\n",
    "    print(\"Nombre de médias\" , {data['__id']}, len(attachments_list.json()))\n",
    "    for att in attachments_list.json():\n",
    "      # Téléchargement des médias\n",
    "      img = client.get(f\"projects/1/forms/Sicen/submissions/{data['__id']}/attachments/{att['name']}\")\n",
    "      with open(att['name'], 'wb') as out_file:\n",
    "          out_file.write(img.content)\n"
   ]
  },
  {
   "cell_type": "markdown",
   "id": "b5542bdb",
   "metadata": {},
   "source": [
    "# Mise à jour des médias attachés à un formulaire\n",
    "\n",
    "La mise à jour ce fait en trois temps :\n",
    " * passage en draft du formulaire\n",
    " * post des fichiers médias\n",
    " * publication d'une nouvelle version du formulaire\n",
    "\n",
    "\n",
    "> **Warning**\n",
    "> !!! Pour le post des csv contournement => passage du contenu du fichier dans data nous n'avons pas réussi à passer directement le fichier en binaire\n"
   ]
  },
  {
   "cell_type": "code",
   "execution_count": null,
   "id": "c4669a1c-ce97-4835-b2f8-c53b0bcae585",
   "metadata": {},
   "outputs": [
    {
     "ename": "",
     "evalue": "",
     "output_type": "error",
     "traceback": [
      "\u001b[1;31mLes cellules en cours d’exécution avec Python 3.8.10 64-bit nécessitent ipykernel package.\n",
      "\u001b[1;31mExécutez la commande suivante pour installer 'ipykernel' dans l’environnement Python. \n",
      "\u001b[1;31mCommande : '/bin/python3 -m pip install ipykernel -U --user --force-reinstall'"
     ]
    }
   ],
   "source": [
    "\n",
    "from datetime import datetime\n",
    "\n",
    "# Draft form\n",
    "request = client.post(f\"projects/{PROJECT_ID}/forms/{FORM_ID}/draft\")\n",
    "\n",
    "\n",
    "#  liste des attachments du formulaire\n",
    "response = client.get(f\"projects/{PROJECT_ID}/forms/{FORM_ID}/attachments\")\n",
    "print(response.json())\n",
    "\n",
    "# Upload attachement\n",
    "FILE_NAME=\"etudes.csv\"\n",
    "file_content = open(f\"./form_attachments/{FILE_NAME}\", \"rb\").read()\n",
    "response = client.post(\n",
    "  f\"projects/{PROJECT_ID}/forms/{FORM_ID}/draft/attachments/{FILE_NAME}\",\n",
    "  data = file_content,\n",
    ")\n",
    "\n",
    "# Publish form\n",
    "version_number=datetime.now()\n",
    "response = client.post(f\"projects/{PROJECT_ID}/forms/{FORM_ID}/draft/publish?version={version_number}\")\n",
    "print(response.json())"
   ]
  }
 ],
 "metadata": {
  "kernelspec": {
   "display_name": "Python 3 (ipykernel)",
   "language": "python",
   "name": "python3"
  },
  "language_info": {
   "codemirror_mode": {
    "name": "ipython",
    "version": 3
   },
   "file_extension": ".py",
   "mimetype": "text/x-python",
   "name": "python",
   "nbconvert_exporter": "python",
   "pygments_lexer": "ipython3",
   "version": "3.8.10"
  },
  "vscode": {
   "interpreter": {
    "hash": "916dbcbb3f70747c44a77c7bcd40155683ae19c65e1c03b4aa3499c5328201f1"
   }
  }
 },
 "nbformat": 4,
 "nbformat_minor": 5
}
